{
 "cells": [
  {
   "cell_type": "markdown",
   "metadata": {},
   "source": [
    "## Errors\n",
    "\n",
    "Checking for grammar and spelling mistakes within articles"
   ]
  },
  {
   "cell_type": "code",
   "execution_count": 2,
   "metadata": {},
   "outputs": [],
   "source": [
    "import language_tool_python as ltp\n",
    "import spacy"
   ]
  },
  {
   "cell_type": "code",
   "execution_count": 3,
   "metadata": {},
   "outputs": [],
   "source": [
    "ERROR_LIMIT = 0.2\n",
    "\n",
    "if not 0 < ERROR_LIMIT <= 1:\n",
    "    raise ValueError(\"ERROR_LIMIT must be greater than 0 and lower or equal to 1\")"
   ]
  },
  {
   "cell_type": "code",
   "execution_count": 4,
   "metadata": {},
   "outputs": [
    {
     "name": "stderr",
     "output_type": "stream",
     "text": [
      "Downloading LanguageTool 5.7: 100%|██████████| 225M/225M [00:41<00:00, 5.46MB/s] \n",
      "Unzipping C:\\Users\\joelm\\AppData\\Local\\Temp\\tmpt31osged.zip to C:\\Users\\joelm\\.cache\\language_tool_python.\n",
      "Downloaded https://www.languagetool.org/download/LanguageTool-5.7.zip to C:\\Users\\joelm\\.cache\\language_tool_python.\n"
     ]
    }
   ],
   "source": [
    "lang_tool = ltp.LanguageTool('en-US')\n",
    "nlp = spacy.load(\"en_core_web_sm\")"
   ]
  },
  {
   "cell_type": "code",
   "execution_count": 7,
   "metadata": {},
   "outputs": [],
   "source": [
    "def evaluate_errors(content: str):\n",
    "    \"\"\"Evaluates errors of content.\n",
    "    \n",
    "    Looks up spelling and grammar errors of the content, scales value by overall word count.\n",
    "\n",
    "    Between 0 unique errors up to the error limit set above.\n",
    "\n",
    "    Value near zero means a lot of errors, value nearer to 1 means no errors.\n",
    "    \"\"\"\n",
    "\n",
    "    matches = lang_tool.check(content)\n",
    "\n",
    "    doc = nlp(content)\n",
    "    entities = [\"PERSON\", \"NORP\", \"FAC\", \"FACILITY\", \"ORG\", \"GPE\", \"LOC\", \"PRODUCT\", \"EVENT\", \"WORK_OF_ART\", \"LAW\"]\n",
    "    names = set([ent.text.strip() for end in doc.ents if ent.label_ in entities])\n",
    "\n",
    "    matches_to_ignore = 0\n",
    "    unknown_words = []\n",
    "\n",
    "    for match in matches:\n",
    "        if (match.ruleId in [\"EN_QUOTES\", \"DASH_RULE\", \"EXTREME_ADJECTIVES\", \"MONTH_OF_XXXX\",\"ENGLISH_WORD_REPEAT_BEGINNING_RULE\"]\n",
    "        or match.category == \"REDUNDANCY\" or \"is British English\" in match.message\n",
    "        or match.matchedText in unknown_words or (\"Possible spelling mistake\" in match.message and any(match.matchedText in nm.split() for nm in names))):\n",
    "            matches_to_ignore += 1\n",
    "        else:\n",
    "            unknown_words.append(match.matchedText)\n",
    "\n",
    "    error_score = len(matches) - matches_to_ignore\n",
    "    word_count = len(content.split())\n",
    "    subscore = 1 - (error_score / (word_count * ERROR_LIMIT))\n",
    "\n",
    "    return max(subscore, 0)"
   ]
  },
  {
   "cell_type": "code",
   "execution_count": 10,
   "metadata": {},
   "outputs": [],
   "source": [
    "errors = []\n",
    "errors.append(evaluate_errors(\"The quick brown fox jumped over the lazy dog.\"))\n",
    "errors.append(evaluate_errors(\"The quick bron fox jumped over dog lazy dog\"))\n",
    "\n",
    "print(errors)"
   ]
  },
  {
   "cell_type": "code",
   "execution_count": 11,
   "metadata": {},
   "outputs": [
    {
     "name": "stdout",
     "output_type": "stream",
     "text": [
      "[1.0, 0.4444444444444444]\n"
     ]
    }
   ],
   "source": []
  },
  {
   "cell_type": "code",
   "execution_count": null,
   "metadata": {},
   "outputs": [],
   "source": []
  }
 ],
 "metadata": {
  "interpreter": {
   "hash": "842fbf2151771c5fab737f7e91cae4a6b3fd587e0ef9c8eecff0f9eb53e93c36"
  },
  "kernelspec": {
   "display_name": "Python 3.10.1 64-bit",
   "language": "python",
   "name": "python3"
  },
  "language_info": {
   "codemirror_mode": {
    "name": "ipython",
    "version": 3
   },
   "file_extension": ".py",
   "mimetype": "text/x-python",
   "name": "python",
   "nbconvert_exporter": "python",
   "pygments_lexer": "ipython3",
   "version": "3.10.1"
  },
  "orig_nbformat": 4
 },
 "nbformat": 4,
 "nbformat_minor": 2
}
