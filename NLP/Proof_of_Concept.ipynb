{
 "cells": [
  {
   "cell_type": "code",
   "execution_count": 34,
   "metadata": {},
   "outputs": [],
   "source": [
    "import spacy\n",
    "import json"
   ]
  },
  {
   "cell_type": "markdown",
   "metadata": {},
   "source": [
    "Proof Of Concept to obtain keywords from different texts\n",
    "\n",
    "We can take advantage of SpaCy's NLP pipeline modules to preselect NLP models for text extraction\n",
    "\n",
    "[Find Modules Here](https://spacy.io/usage/models)"
   ]
  },
  {
   "cell_type": "code",
   "execution_count": 35,
   "metadata": {},
   "outputs": [],
   "source": [
    "nlp = spacy.load(\"en_core_web_sm\")"
   ]
  },
  {
   "cell_type": "code",
   "execution_count": 42,
   "metadata": {},
   "outputs": [],
   "source": [
    "with open('../data/single.json', 'r') as f:\n",
    "    data = json.load(f)"
   ]
  },
  {
   "cell_type": "code",
   "execution_count": 43,
   "metadata": {},
   "outputs": [],
   "source": [
    "text = data['content']\n",
    "doc = nlp(text)"
   ]
  },
  {
   "cell_type": "code",
   "execution_count": 44,
   "metadata": {},
   "outputs": [
    {
     "name": "stdout",
     "output_type": "stream",
     "text": [
      "(Amazon Web Services, Lambda, 3, One, Lambda Functions, APM, AWS Lambda, AWS, first, 1 million, Lambda, Lambda, Lambda, Create, Lambda, RequestId, 62fa2f25-669c-47b7, RequestId, 62fa2f25-669c-47b7, RequestId, 62fa2f25-669c-47b7, 0.30, 1, 128, 43, 1.34, 62fa2f25-669c-47b7, Sentry, Start Setup, Lambda, Lambda, Lambda Layer, Lambda Layers, Layers, ARN, ARN, US, one, Lambda Layer, Sentry, Lambda, Lambda, APM, Lambda, AWS Lambda, Sentry, DSN, Lambda, Edit, DSN, Sentry, Lambda, sentry_sdk.integrations.aws_lambda, sentry_sdk.init, traces_sample_rate=1.0, 1000, start_transaction(op=\"task, 1000, first, Sentry, Sentry, Next, 3, @mattmakai, GitHub, GitHub)\n"
     ]
    }
   ],
   "source": [
    "# returns a tuple\n",
    "print(doc.ents)"
   ]
  },
  {
   "cell_type": "code",
   "execution_count": 47,
   "metadata": {},
   "outputs": [
    {
     "name": "stdout",
     "output_type": "stream",
     "text": [
      "Amazon Web Services\n",
      "Lambda\n",
      "3\n",
      "One\n",
      "Lambda Functions\n",
      "APM\n",
      "AWS Lambda\n",
      "AWS\n",
      "first\n",
      "1 million\n",
      "Lambda\n",
      "Lambda\n",
      "Lambda\n",
      "Create\n",
      "Lambda\n",
      "RequestId\n",
      "62fa2f25-669c-47b7\n",
      "RequestId\n",
      "62fa2f25-669c-47b7\n",
      "RequestId\n",
      "62fa2f25-669c-47b7\n",
      "0.30\n",
      "1\n",
      "128\n",
      "43\n",
      "1.34\n",
      "62fa2f25-669c-47b7\n",
      "Sentry\n",
      "Start Setup\n",
      "Lambda\n",
      "Lambda\n",
      "Lambda Layer\n",
      "Lambda Layers\n",
      "Layers\n",
      "ARN\n",
      "ARN\n",
      "US\n",
      "one\n",
      "Lambda Layer\n",
      "Sentry\n",
      "Lambda\n",
      "Lambda\n",
      "APM\n",
      "Lambda\n",
      "AWS Lambda\n",
      "Sentry\n",
      "DSN\n",
      "Lambda\n",
      "Edit\n",
      "DSN\n",
      "Sentry\n",
      "Lambda\n",
      "sentry_sdk.integrations.aws_lambda\n",
      "sentry_sdk.init\n",
      "traces_sample_rate=1.0\n",
      "1000\n",
      "start_transaction(op=\"task\n",
      "1000\n",
      "first\n",
      "Sentry\n",
      "Sentry\n",
      "Next\n",
      "3\n",
      "@mattmakai\n",
      "GitHub\n",
      "GitHub\n"
     ]
    }
   ],
   "source": [
    "for ent in doc.ents:\n",
    "    print(ent.text)"
   ]
  }
 ],
 "metadata": {
  "interpreter": {
   "hash": "842fbf2151771c5fab737f7e91cae4a6b3fd587e0ef9c8eecff0f9eb53e93c36"
  },
  "kernelspec": {
   "display_name": "Python 3.10.1 64-bit",
   "language": "python",
   "name": "python3"
  },
  "language_info": {
   "codemirror_mode": {
    "name": "ipython",
    "version": 3
   },
   "file_extension": ".py",
   "mimetype": "text/x-python",
   "name": "python",
   "nbconvert_exporter": "python",
   "pygments_lexer": "ipython3",
   "version": "3.10.1"
  },
  "orig_nbformat": 4
 },
 "nbformat": 4,
 "nbformat_minor": 2
}
