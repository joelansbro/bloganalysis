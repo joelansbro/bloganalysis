{
 "cells": [
  {
   "cell_type": "markdown",
   "metadata": {},
   "source": [
    "text descriptives such as word complexity, readibility etc"
   ]
  },
  {
   "cell_type": "code",
   "execution_count": 1,
   "metadata": {},
   "outputs": [
    {
     "name": "stderr",
     "output_type": "stream",
     "text": [
      "C:\\Users\\joelm\\AppData\\Local\\Programs\\Python\\Python310\\lib\\site-packages\\scipy\\__init__.py:146: UserWarning: A NumPy version >=1.16.5 and <1.23.0 is required for this version of SciPy (detected version 1.24.1\n",
      "  warnings.warn(f\"A NumPy version >={np_minversion} and <{np_maxversion}\"\n"
     ]
    }
   ],
   "source": [
    "import textdescriptives as td\n",
    "import spacy"
   ]
  },
  {
   "cell_type": "code",
   "execution_count": 2,
   "metadata": {},
   "outputs": [],
   "source": [
    "nlp = spacy.load('en_core_web_sm')"
   ]
  },
  {
   "cell_type": "code",
   "execution_count": 3,
   "metadata": {},
   "outputs": [
    {
     "data": {
      "text/plain": [
       "<textdescriptives.load_components.TextDescriptives at 0x20d389b58d0>"
      ]
     },
     "execution_count": 3,
     "metadata": {},
     "output_type": "execute_result"
    }
   ],
   "source": [
    "nlp.add_pipe(\"textdescriptives/all\")"
   ]
  },
  {
   "cell_type": "code",
   "execution_count": 18,
   "metadata": {},
   "outputs": [],
   "source": [
    "doc = nlp(\"Amazon Web Services (AWS) Lambda is a usage-based computing infrastructure service that can execute\\nPython 3 code\")"
   ]
  },
  {
   "cell_type": "code",
   "execution_count": 19,
   "metadata": {},
   "outputs": [
    {
     "data": {
      "text/plain": [
       "{'flesch_reading_ease': 58.42368421052632,\n",
       " 'flesch_kincaid_grade': 9.830526315789477,\n",
       " 'smog': nan,\n",
       " 'gunning_fog': 11.810526315789474,\n",
       " 'automated_readability_index': 11.619999999999997,\n",
       " 'coleman_liau_index': 12.042105263157893,\n",
       " 'lix': 45.315789473684205,\n",
       " 'rix': 5.0}"
      ]
     },
     "execution_count": 19,
     "metadata": {},
     "output_type": "execute_result"
    }
   ],
   "source": [
    "# go here for the methods\n",
    "# https://hlasse.github.io/TextDescriptives/usingthepackage.html#available-attributes\n",
    "# https://hlasse.github.io/TextDescriptives/readability.html\n",
    "doc._.readability"
   ]
  },
  {
   "cell_type": "code",
   "execution_count": 20,
   "metadata": {},
   "outputs": [
    {
     "data": {
      "text/plain": [
       "{'token_length_mean': 5.0,\n",
       " 'token_length_median': 5.0,\n",
       " 'token_length_std': 3.1455900626281967}"
      ]
     },
     "execution_count": 20,
     "metadata": {},
     "output_type": "execute_result"
    }
   ],
   "source": [
    "doc._.token_length"
   ]
  },
  {
   "cell_type": "code",
   "execution_count": 21,
   "metadata": {},
   "outputs": [
    {
     "data": {
      "text/plain": [
       "{'syllables_per_token_mean': 1.5263157894736843,\n",
       " 'syllables_per_token_median': 1.0,\n",
       " 'syllables_per_token_std': 0.8187552203212656}"
      ]
     },
     "execution_count": 21,
     "metadata": {},
     "output_type": "execute_result"
    }
   ],
   "source": [
    "doc._.syllables"
   ]
  },
  {
   "cell_type": "code",
   "execution_count": 22,
   "metadata": {},
   "outputs": [
    {
     "data": {
      "text/plain": [
       "{'first_order_coherence': nan, 'second_order_coherence': nan}"
      ]
     },
     "execution_count": 22,
     "metadata": {},
     "output_type": "execute_result"
    }
   ],
   "source": [
    "# The coherence components calculates the coherence of the document, based on word embedding cosine similarity between sentences.\n",
    "# see https://www.sciencedirect.com/science/article/pii/S0920996422002742?via%3Dihub and https://www.nature.com/articles/npjschz201530\n",
    "doc._.coherence"
   ]
  },
  {
   "cell_type": "code",
   "execution_count": 23,
   "metadata": {},
   "outputs": [
    {
     "data": {
      "text/plain": [
       "QualityOutput(\n",
       "\tpassed=True, \n",
       "\tn_stop_words=ThresholdsOutput(value=4.0, passed=True, threshold=(2.0, None)), \n",
       "\talpha_ratio=ThresholdsOutput(value=0.77, passed=True, threshold=(0.7, None)), \n",
       "\tmean_word_length=ThresholdsOutput(value=4.45, passed=True, threshold=(3.0, 10.0)), \n",
       "\tdoc_length=ThresholdsOutput(value=22.0, passed=True, threshold=(10.0, 100000.0)), \n",
       "\tsymbol_to_word_ratio={'#': ThresholdsOutput(value=0.0, passed=True, threshold=(None, 0.1))}, \n",
       "\tproportion_ellipsis=ThresholdsOutput(value=0.0, passed=True, threshold=(None, 0.3)), \n",
       "\tproportion_bullet_points=ThresholdsOutput(value=0.0, passed=True, threshold=(None, 0.8)), \n",
       "\tcontains={'lorem ipsum': ThresholdsOutput(value=0.0, passed=True, threshold=False)}, \n",
       "\tduplicate_line_chr_fraction=ThresholdsOutput(value=0.0, passed=True, threshold=(None, 0.2)), \n",
       "\tduplicate_paragraph_chr_fraction=ThresholdsOutput(value=0.0, passed=True, threshold=(None, 0.2)), \n",
       "\tduplicate_ngram_chr_fraction={'5': ThresholdsOutput(value=0.0, passed=True, threshold=(None, 0.15)), '6': ThresholdsOutput(value=0.0, passed=True, threshold=(None, 0.14)), '7': ThresholdsOutput(value=0.0, passed=True, threshold=(None, 0.13)), '8': ThresholdsOutput(value=0.0, passed=True, threshold=(None, 0.12)), '9': ThresholdsOutput(value=0.0, passed=True, threshold=(None, 0.11)), '10': ThresholdsOutput(value=0.0, passed=True, threshold=(None, 0.1))}, \n",
       "\ttop_ngram_chr_fraction={'2': ThresholdsOutput(value=0.0, passed=True, threshold=(None, 0.2)), '3': ThresholdsOutput(value=0.0, passed=True, threshold=(None, 0.18)), '4': ThresholdsOutput(value=0.0, passed=True, threshold=(None, 0.16))}, \n",
       "\toov_ratio=ThresholdsOutput(value=None, passed=None, threshold=(None, None)))"
      ]
     },
     "execution_count": 23,
     "metadata": {},
     "output_type": "execute_result"
    }
   ],
   "source": [
    "# https://hlasse.github.io/TextDescriptives/quality.html\n",
    "# gains quality by looking at things like repetition, if theres bulletpoints etc\n",
    "# from https://arxiv.org/abs/1910.10683 and https://arxiv.org/abs/2112.11446\n",
    "# could be useful in gaining some metrics, for instance can more easily identify if a text has included in it code\n",
    "doc._.quality"
   ]
  },
  {
   "cell_type": "code",
   "execution_count": 24,
   "metadata": {},
   "outputs": [
    {
     "data": {
      "text/plain": [
       "{'entropy': 0.2897752284598386,\n",
       " 'perplexity': 1.336127130917804,\n",
       " 'per_word_perplexity': 0.060733051405354725}"
      ]
     },
     "execution_count": 24,
     "metadata": {},
     "output_type": "execute_result"
    }
   ],
   "source": [
    "# https://hlasse.github.io/TextDescriptives/information_theory.html\n",
    "# calculates measures used to describe the complexity of a text, the higher the entropy, the more complex the text is. \n",
    "# one could imagine filtering text based on per word perplexity given the assumption that highly surprising text is in fact non-coherent text pieces\n",
    "doc._.information_theory"
   ]
  }
 ],
 "metadata": {
  "interpreter": {
   "hash": "842fbf2151771c5fab737f7e91cae4a6b3fd587e0ef9c8eecff0f9eb53e93c36"
  },
  "kernelspec": {
   "display_name": "Python 3.10.1 64-bit",
   "language": "python",
   "name": "python3"
  },
  "language_info": {
   "codemirror_mode": {
    "name": "ipython",
    "version": 3
   },
   "file_extension": ".py",
   "mimetype": "text/x-python",
   "name": "python",
   "nbconvert_exporter": "python",
   "pygments_lexer": "ipython3",
   "version": "3.10.1"
  },
  "orig_nbformat": 4
 },
 "nbformat": 4,
 "nbformat_minor": 2
}
