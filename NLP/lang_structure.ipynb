{
 "cells": [
  {
   "cell_type": "markdown",
   "metadata": {},
   "source": [
    "A couple different functions to analyse sentence structure"
   ]
  },
  {
   "cell_type": "code",
   "execution_count": 16,
   "metadata": {},
   "outputs": [],
   "source": [
    "#  A high TTR indicates a high degree of lexical variation while a low TTR indicates the opposite.\n",
    "TTR_LIMITS = [0.3, 0.7]\n",
    "\n",
    "def textToTokenRatio(content: str):\n",
    "    \"\"\"Equal to number of unique words divided by total number of words.\n",
    "    \n",
    "    0  indicates large redundancy, 1 indicates low redundancy of words\n",
    "    \"\"\"\n",
    "    ttr = len(set(content.split())) / len(content.split())\n",
    "\n",
    "    ttr_score = (ttr -TTR_LIMITS[0] / TTR_LIMITS[1] - TTR_LIMITS[0])\n",
    "    return min(max(ttr_score, 0), 1)\n",
    "\n",
    "import re\n",
    "\n",
    "def text_top_token_ratio(text):\n",
    "    # Remove punctuation and split the text into a list of words\n",
    "    words = re.findall(r'\\w+', text.lower())\n",
    "\n",
    "    # Count the number of occurrences of each word\n",
    "    word_counts = {}\n",
    "    for word in words:\n",
    "        if word in word_counts:\n",
    "            word_counts[word] += 1\n",
    "        else:\n",
    "            word_counts[word] = 1\n",
    "\n",
    "    # Sort the words by frequency in descending order\n",
    "    sorted_words = sorted(word_counts.items(), key=lambda x: x[1], reverse=True)\n",
    "\n",
    "    # Calculate the Text Top Token Ratio\n",
    "    top_tokens = sum(count for word, count in sorted_words[:10])\n",
    "    total_tokens = sum(count for word, count in word_counts.items())\n",
    "    ttr = top_tokens / total_tokens if total_tokens > 0 else 0\n",
    "\n",
    "    return ttr"
   ]
  },
  {
   "cell_type": "code",
   "execution_count": 17,
   "metadata": {},
   "outputs": [
    {
     "name": "stdout",
     "output_type": "stream",
     "text": [
      "[0.2714285714285714, 0.11494252873563218]\n"
     ]
    }
   ],
   "source": [
    "list = []\n",
    "sentence = \"\"\"is\twas\tare\tbe\thave\n",
    "had\twere\tcan\tsaid\tuse\n",
    "do\twill\twould\tmake\tlike\n",
    "has\tlook\twrite\tgo\tsee\n",
    "could\tbeen\tcall\tam\tfind\n",
    "did\tget\tcome\tmade\tmay\n",
    "take\tknow\tlive\tgive\tthink\n",
    "say\thelp\ttell\tfollow\tcame\n",
    "want\tshow\tset\tput\tdoes\n",
    "must\task\twent\tread\tneed\n",
    "move\ttry\tchange\tplay\tspell\n",
    "found\tstudy\tlearn\tshould\tadd\n",
    "keep\tstart\tthought\tsaw\tturn\n",
    "might\tclose\tseem\topen\tbegin\n",
    "got\trun\twalk\tbegan\tgrow\n",
    "took\tcarry\thear\tstop\tmiss\n",
    "eat\twatch\tlet\tcut\ttalk\n",
    "being\tleave\"\"\"\n",
    "\n",
    "list.append(textToTokenRatio(sentence))\n",
    "list.append(text_top_token_ratio(sentence))\n",
    "\n",
    "print(list)"
   ]
  },
  {
   "cell_type": "code",
   "execution_count": 18,
   "metadata": {},
   "outputs": [],
   "source": [
    "## An calculate the average word length\n",
    "\n",
    "WORDLENGTH = [4.5, 5.5]\n",
    "\n",
    "def evaluate_word_length_text(content: str):\n",
    "    \"\"\"Evaluates the average length of words in the content.\n",
    "    \n",
    "    Score betwen 0 and 1, 0 = short words, 1 = longer words\n",
    "    \"\"\"\n",
    "    word_length = sum(len(word) for word in content.split()) / len(content.split())\n",
    "\n",
    "    score = (word_length - WORDLENGTH[0]) / (WORDLENGTH[1] - WORDLENGTH[0])\n",
    "    return min(max(score, 0), 1)"
   ]
  },
  {
   "cell_type": "code",
   "execution_count": 23,
   "metadata": {},
   "outputs": [
    {
     "name": "stdout",
     "output_type": "stream",
     "text": [
      "[0.2714285714285714, 0.11494252873563218, 1, 0, 1, 0]\n"
     ]
    }
   ],
   "source": [
    "list.append(evaluate_word_length_text(\"Utterance of a loquacious vocabulary. Exceedingly sophsiticated terminological apparatus.\"))\n",
    "list.append(evaluate_word_length_text(\"small word not much big word no\"))\n",
    "\n",
    "print(list)"
   ]
  },
  {
   "cell_type": "code",
   "execution_count": null,
   "metadata": {},
   "outputs": [],
   "source": []
  }
 ],
 "metadata": {
  "interpreter": {
   "hash": "842fbf2151771c5fab737f7e91cae4a6b3fd587e0ef9c8eecff0f9eb53e93c36"
  },
  "kernelspec": {
   "display_name": "Python 3.10.1 64-bit",
   "language": "python",
   "name": "python3"
  },
  "language_info": {
   "codemirror_mode": {
    "name": "ipython",
    "version": 3
   },
   "file_extension": ".py",
   "mimetype": "text/x-python",
   "name": "python",
   "nbconvert_exporter": "python",
   "pygments_lexer": "ipython3",
   "version": "3.10.1"
  },
  "orig_nbformat": 4
 },
 "nbformat": 4,
 "nbformat_minor": 2
}
