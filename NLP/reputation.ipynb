{
 "cells": [
  {
   "cell_type": "markdown",
   "metadata": {},
   "source": [
    "## Site reputation\n",
    "\n",
    "I've been struggling to get a nice method of doing this, and I bet there's more to do, but so far we can create a list of sites that are reputable and use them to judge credbility.\n",
    "\n",
    "If something is posted on a reputable website then it can be considered credible"
   ]
  },
  {
   "cell_type": "code",
   "execution_count": null,
   "metadata": {},
   "outputs": [],
   "source": [
    "from pyspark.sql.functions import udf\n",
    "from pyspark.sql.types import BooleanType\n",
    "import tldextract\n",
    "import re\n",
    "\n",
    "# create a set of reputable websites\n",
    "reputable_websites = {'apple.com', 'shopify.com', 'science.org', 'ieee.org', 'news.ycombinator.com'}\n",
    "reputable_suffixes = {'org', 'edu', 'ac', 'gov'}\n",
    "\n",
    "\"\"\"\n",
    "ext.subdomain\n",
    "ext.domain\n",
    "ext.suffix\n",
    "\"\"\"\n",
    "\n",
    "# define a function to check if a website is reputable\n",
    "def is_reputable_reg_domain(url):\n",
    "    domain = tldextract.extract(url).registered_domain\n",
    "    return domain in reputable_websites\n",
    "\n",
    "# or we go the regex way\n",
    "def regex_search(url):\n",
    "    for suffix in reputable_suffixes:\n",
    "        if re.search(r\"\\.\" + suffix + r\"(?:\\.[a-z]+)?$\", url):\n",
    "            return True\n",
    "\n",
    "\n",
    "# register the function as a UDF\n",
    "is_reputable_udf = udf(is_reputable_reg_domain, BooleanType())\n",
    "\n",
    "# read in the parquet file\n",
    "df = spark.read.parquet('path/to/articles.parquet')\n",
    "\n",
    "# add a column indicating if the website is reputable or not\n",
    "df = df.withColumn('is_reputable', is_reputable_udf('url'))"
   ]
  },
  {
   "cell_type": "code",
   "execution_count": 1,
   "metadata": {},
   "outputs": [],
   "source": [
    "import re\n",
    "\n",
    "reputable_suffixes = {'org', 'edu', 'ac', 'gov'}\n",
    "\n",
    "def regex_search(url):\n",
    "    for suffix in reputable_suffixes:\n",
    "        if re.search(r\"\\.\" + suffix + r\"(?:\\.[a-z]+)?$\", url):\n",
    "            return True"
   ]
  },
  {
   "cell_type": "markdown",
   "metadata": {},
   "source": [
    "for instance the above uses a list of websites which we can define somewhere. \n",
    "\n",
    "Say take a list from somewhere"
   ]
  },
  {
   "cell_type": "markdown",
   "metadata": {},
   "source": [
    "Besides this above, I could perhaps use an authoritative academic source that could help deal with credibility.\n",
    "SWEBOK 3 is a guide to software engineering terminology which has come together academically, and the IEEE and ISO have a lot in common (see SWEBOK appendeix B)\n",
    "We could parse out the keywords from SWEBOK and use them as a parser guide. Ask tutor if this is feasible.\n",
    "\n",
    "The logic goes, that if we have an article with a lot of terminology that is found in SWEBOK, and SWEBOK is a professional guide, we can be fairly confident that the article is of a professional leaning."
   ]
  },
  {
   "cell_type": "code",
   "execution_count": 14,
   "metadata": {},
   "outputs": [
    {
     "name": "stdout",
     "output_type": "stream",
     "text": [
      "gov.uk\n"
     ]
    }
   ],
   "source": [
    "import tldextract\n",
    "\n",
    "print(tldextract.extract('example.gov.uk/has_this_worked').suffix)"
   ]
  },
  {
   "cell_type": "code",
   "execution_count": null,
   "metadata": {},
   "outputs": [],
   "source": []
  }
 ],
 "metadata": {
  "interpreter": {
   "hash": "842fbf2151771c5fab737f7e91cae4a6b3fd587e0ef9c8eecff0f9eb53e93c36"
  },
  "kernelspec": {
   "display_name": "Python 3.10.1 64-bit",
   "language": "python",
   "name": "python3"
  },
  "language_info": {
   "codemirror_mode": {
    "name": "ipython",
    "version": 3
   },
   "file_extension": ".py",
   "mimetype": "text/x-python",
   "name": "python",
   "nbconvert_exporter": "python",
   "pygments_lexer": "ipython3",
   "version": "3.10.1"
  },
  "orig_nbformat": 4
 },
 "nbformat": 4,
 "nbformat_minor": 2
}
