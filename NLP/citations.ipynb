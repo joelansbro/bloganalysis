{
 "cells": [
  {
   "cell_type": "markdown",
   "metadata": {},
   "source": [
    "## References\n",
    "\n",
    "This script regexes the hyperlinks of an article and gives an article a score based on the results."
   ]
  },
  {
   "cell_type": "code",
   "execution_count": null,
   "metadata": {},
   "outputs": [],
   "source": [
    "from pyspark import SparkContext, SparkConf\n",
    "from pyspark.sql import SparkSession\n",
    "from pyspark.sql.functions import col, size, regexp_extract, sum, when\n",
    "import re\n",
    "\n",
    "# Set up Spark\n",
    "conf = SparkConf().setAppName(\"Blog Metrics\")\n",
    "sc = SparkContext(conf=conf)\n",
    "spark = SparkSession(sc)\n",
    "\n",
    "# Define function to count hyperlinks\n",
    "def count_hyperlinks(article_path):\n",
    "    text_file = spark.read.text(article_path)\n",
    "    hyperlinks = text_file.select(regexp_extract(col(\"value\"), '<a\\\\s+.*?href=\"(.*?)\".*?>', 1).alias(\"hyperlink\"))\n",
    "    return hyperlinks.filter(col(\"hyperlink\").isNotNull()).count()\n",
    "\n",
    "# Define function to calculate score\n",
    "def calculate_score(hyperlink_count):\n",
    "    return hyperlink_count * 1.5\n",
    "\n",
    "# Example usage\n",
    "article_paths = [\"path/to/article1.html\", \"path/to/article2.html\", \"path/to/article3.html\"]\n",
    "hyperlink_counts = [count_hyperlinks(path) for path in article_paths]\n",
    "scores = [calculate_score(count) for count in hyperlink_counts]\n",
    "\n",
    "for i, path in enumerate(article_paths):\n",
    "    print(f\"{path} - Hyperlink count: {hyperlink_counts[i]}, Score: {scores[i]}\")"
   ]
  },
  {
   "cell_type": "markdown",
   "metadata": {},
   "source": [
    "The count_hyperlinks function takes in an article path, reads in the file, and extracts hyperlinks using a regular expression. It then filters out any null hyperlinks and returns a count of the remaining hyperlinks.\n",
    "\n",
    "The calculate_score function takes in a hyperlink count and returns a score based on that count. In this case, we're simply multiplying the count by 1.5.\n",
    "\n",
    "Finally, we loop through each article path, count the hyperlinks, and calculate the score using the above functions. We then print out the path, hyperlink count, and score for each article. Note that you will need to replace \"path/to/article1.html\", \"path/to/article2.html\", and \"path/to/article3.html\" with the actual file paths to your articles."
   ]
  },
  {
   "cell_type": "markdown",
   "metadata": {},
   "source": []
  }
 ],
 "metadata": {
  "language_info": {
   "name": "python"
  },
  "orig_nbformat": 4
 },
 "nbformat": 4,
 "nbformat_minor": 2
}
