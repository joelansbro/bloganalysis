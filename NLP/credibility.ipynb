{
 "cells": [
  {
   "cell_type": "markdown",
   "metadata": {},
   "source": [
    "## Credibility markers from Williams and Buchan\n",
    "\n",
    "Methods to implement judging credibility of articles. If an article is more credible, provide it more weighting to highlight the article for reading in the output.\n",
    "\n",
    "Each criteria can be split into each individual section and given a score. At the end we can add up all of the scores to provide a final credibility reading for the article.\n",
    "\n",
    "---------------------------------------------------------------------------------"
   ]
  },
  {
   "cell_type": "markdown",
   "metadata": {},
   "source": [
    "The prior beliefs function would take the article's content as input and return a list of strings that represent the prior beliefs of the author. The prior beliefs could be anything from the author's personal beliefs to the beliefs of a community or organization that the author is part of.\n",
    "\n",
    "One way to write the prior beliefs function would be to use a regular expression to identify the key words or phrases that indicate prior beliefs in the article's content. For example, if the author is writing about a controversial topic, you might look for words like \"believe,\" \"think,\" \"assume,\" and \"opinion.\"\n",
    "\n",
    "Once you have identified the key words or phrases, you can use them to extract the prior beliefs from the article's content. For example, if the author writes \"I believe that the Earth is round,\" you could extract the prior belief \"The Earth is round.\"\n",
    "\n",
    "You can then store the extracted prior beliefs in a list and return the list at the end of the function.\n",
    "\n",
    "Here is an example of how the prior beliefs function could be implemented:"
   ]
  },
  {
   "cell_type": "code",
   "execution_count": null,
   "metadata": {},
   "outputs": [],
   "source": [
    "def prior_beliefs(content):\n",
    "    # Identify the key words or phrases that indicate prior beliefs\n",
    "    prior_beliefs_regex = r'(?<!I)(?=believe|think|assume|opinion)\\s+(.*)'\n",
    "\n",
    "    # Extract the prior beliefs from the article's content\n",
    "    prior_beliefs = []\n",
    "    for match in prior_beliefs_regex.findall(content):\n",
    "        prior_beliefs.append(match.group(1))\n",
    "\n",
    "    return prior_beliefs"
   ]
  },
  {
   "cell_type": "code",
   "execution_count": null,
   "metadata": {},
   "outputs": [],
   "source": []
  }
 ],
 "metadata": {
  "language_info": {
   "name": "python"
  },
  "orig_nbformat": 4
 },
 "nbformat": 4,
 "nbformat_minor": 2
}
