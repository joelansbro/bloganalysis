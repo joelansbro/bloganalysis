{
 "cells": [
  {
   "cell_type": "code",
   "execution_count": 2,
   "metadata": {},
   "outputs": [],
   "source": [
    "import spacy as sp\n",
    "import pandas as pd\n",
    "import json\n",
    "from pyspark.sql import SparkSession\n",
    "#referring to chapter six Data Analysis with Python and PySpark for guidance"
   ]
  },
  {
   "cell_type": "code",
   "execution_count": 4,
   "metadata": {},
   "outputs": [],
   "source": [
    "spark = SparkSession.Builder().master('local[1]').appName(\"text\").getOrCreate()"
   ]
  },
  {
   "cell_type": "code",
   "execution_count": 10,
   "metadata": {},
   "outputs": [],
   "source": [
    "# Unlike CSV data, JSON data doesn’t need to worry about record delimiters or inferring data types (JSON forces the usage of string delimiters, so the value 03843 is a number, where \"03843\" is a string) - chapt 6 Data analysis with PySpark, Manning\n",
    "data = spark.read.json('../data/single.json', multiLine=True)"
   ]
  },
  {
   "cell_type": "code",
   "execution_count": 11,
   "metadata": {},
   "outputs": [
    {
     "data": {
      "text/plain": [
       "1"
      ]
     },
     "execution_count": 11,
     "metadata": {},
     "output_type": "execute_result"
    }
   ],
   "source": [
    "#  count was 17 when multiLine = False, when false, Json treated in regular dataFrame format\n",
    "# when interacting with pySpark, may be better to put new entries within single lines\n",
    "#eg: {id: 1, article: python, date: 2022}\n",
    "#    {id: 2, article: pyspark, date: 2022}\n",
    "# this allows us to operate on it like it were a csv file - worth considering\n",
    "data.count()"
   ]
  },
  {
   "cell_type": "code",
   "execution_count": 12,
   "metadata": {},
   "outputs": [
    {
     "name": "stdout",
     "output_type": "stream",
     "text": [
      "root\n",
      " |-- _id: long (nullable = true)\n",
      " |-- author: string (nullable = true)\n",
      " |-- content: string (nullable = true)\n",
      " |-- date_published: long (nullable = true)\n",
      " |-- dek: string (nullable = true)\n",
      " |-- direction: string (nullable = true)\n",
      " |-- domain: string (nullable = true)\n",
      " |-- excerpt: string (nullable = true)\n",
      " |-- lead_image_url: string (nullable = true)\n",
      " |-- next_page_url: string (nullable = true)\n",
      " |-- rendered_pages: long (nullable = true)\n",
      " |-- title: string (nullable = true)\n",
      " |-- total_pages: long (nullable = true)\n",
      " |-- url: string (nullable = true)\n",
      " |-- word_count: long (nullable = true)\n",
      "\n"
     ]
    }
   ],
   "source": [
    "data.printSchema()"
   ]
  },
  {
   "cell_type": "code",
   "execution_count": 13,
   "metadata": {},
   "outputs": [
    {
     "name": "stdout",
     "output_type": "stream",
     "text": [
      "['_id', 'author', 'content', 'date_published', 'dek', 'direction', 'domain', 'excerpt', 'lead_image_url', 'next_page_url', 'rendered_pages', 'title', 'total_pages', 'url', 'word_count']\n"
     ]
    }
   ],
   "source": [
    "print(data.columns)"
   ]
  },
  {
   "cell_type": "code",
   "execution_count": 14,
   "metadata": {},
   "outputs": [
    {
     "name": "stdout",
     "output_type": "stream",
     "text": [
      "+---+----------+--------------------+--------------+----+---------+---------------+--------------------+--------------------+-------------+--------------+--------------------+-----------+--------------------+----------+\n",
      "|_id|    author|             content|date_published| dek|direction|         domain|             excerpt|      lead_image_url|next_page_url|rendered_pages|               title|total_pages|                 url|word_count|\n",
      "+---+----------+--------------------+--------------+----+---------+---------------+--------------------+--------------------+-------------+--------------+--------------------+-----------+--------------------+----------+\n",
      "|  1|Matt Makai|\\nAmazon Web Serv...|          2021|null|      ltr|fullstackpython|Learn how to use ...|https://www.fulls...|         null|             1|Application Perfo...|          1|https://www.fulls...|      1113|\n",
      "+---+----------+--------------------+--------------+----+---------+---------------+--------------------+--------------------+-------------+--------------+--------------------+-----------+--------------------+----------+\n",
      "\n"
     ]
    }
   ],
   "source": [
    "data.show()"
   ]
  },
  {
   "cell_type": "code",
   "execution_count": null,
   "metadata": {},
   "outputs": [],
   "source": [
    "# PySpark will also treat everything stored in an Array as a string, "
   ]
  }
 ],
 "metadata": {
  "interpreter": {
   "hash": "842fbf2151771c5fab737f7e91cae4a6b3fd587e0ef9c8eecff0f9eb53e93c36"
  },
  "kernelspec": {
   "display_name": "Python 3.10.1 64-bit",
   "language": "python",
   "name": "python3"
  },
  "language_info": {
   "codemirror_mode": {
    "name": "ipython",
    "version": 3
   },
   "file_extension": ".py",
   "mimetype": "text/x-python",
   "name": "python",
   "nbconvert_exporter": "python",
   "pygments_lexer": "ipython3",
   "version": "3.10.1"
  },
  "orig_nbformat": 4
 },
 "nbformat": 4,
 "nbformat_minor": 2
}
