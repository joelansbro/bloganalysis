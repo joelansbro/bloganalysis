{
 "cells": [
  {
   "cell_type": "markdown",
   "metadata": {},
   "source": [
    "## PySpark Test script to collate blobs of JSON together\n",
    "\n",
    "This is in order to collate together separate JSON scripts that are accepted in and stored via the inbound API\n",
    "the inbound API will store json locally, and clean itself on a scheduled basis\n",
    "The point of this exercise is to gather inputs A B and C together, combine them, and store them in a separate location"
   ]
  },
  {
   "cell_type": "code",
   "execution_count": 1,
   "metadata": {},
   "outputs": [],
   "source": [
    "from pyspark.sql import SparkSession\n",
    "from pyspark.sql.functions import *\n",
    "from pyspark.sql.types import *\n",
    "import glob\n",
    "import os\n",
    "import pandas as pd"
   ]
  },
  {
   "cell_type": "code",
   "execution_count": 2,
   "metadata": {},
   "outputs": [],
   "source": [
    "spark = SparkSession.Builder().master('local[*]')\\\n",
    "    .appName(\"inboundcollation\")\\\n",
    "    .getOrCreate()"
   ]
  },
  {
   "cell_type": "code",
   "execution_count": 3,
   "metadata": {},
   "outputs": [],
   "source": [
    "inboundDir = '../data/aggregate/'\n",
    "\n",
    "jsonSchema = StructType([\n",
    "    StructField(\"title\", StringType(), False),\n",
    "    StructField(\"author\", StringType(), True),\n",
    "    StructField(\"project\", StringType(), False),\n",
    "    StructField(\"date_published\", StringType(), True),\n",
    "    StructField(\"lead_image_url\", StringType(), True),\n",
    "    StructField(\"content\", StringType(), False),\n",
    "    StructField(\"next_page_url\", StringType(), True),\n",
    "    StructField(\"url\", StringType(), False),\n",
    "    StructField(\"domain\", StringType(), True),\n",
    "    StructField(\"excerpt\", StringType(), True),\n",
    "    StructField(\"word_count\", IntegerType(), False),\n",
    "    StructField(\"direction\", StringType(), True),\n",
    "    StructField(\"total_pages\", IntegerType(), True),\n",
    "    StructField(\"rendered_pages\", IntegerType(), True),\n",
    "])\n"
   ]
  },
  {
   "cell_type": "code",
   "execution_count": 26,
   "metadata": {},
   "outputs": [],
   "source": [
    "df_app = spark.read.schema(jsonSchema).json(\"../data/aggregate/inputA.json\", multiLine=True)"
   ]
  },
  {
   "cell_type": "code",
   "execution_count": 27,
   "metadata": {},
   "outputs": [
    {
     "data": {
      "text/plain": [
       "<bound method DataFrame.describe of DataFrame[title: string, author: string, date_published: string, lead_image_url: string, content: string, next_page_url: string, url: string, domain: string, excerpt: string, word_count: int, direction: string, total_pages: int, rendered_pages: int]>"
      ]
     },
     "execution_count": 27,
     "metadata": {},
     "output_type": "execute_result"
    }
   ],
   "source": [
    "df_app.describe"
   ]
  },
  {
   "cell_type": "code",
   "execution_count": 14,
   "metadata": {},
   "outputs": [],
   "source": [
    "# UnsatisfiedLinkError: org.apache.hadoop.io.nativeio.NativeIO$Windows this occurs because winUtils isn't installed - winutils simulates a Hadoop installation, look into adding this and setting your %HADOOP_HOME path to this\n",
    "# this is the only way to be able to run pySpark jobs, which gives me pause for the project\n",
    "# potential resolutions may be to do this via a container"
   ]
  },
  {
   "cell_type": "code",
   "execution_count": 29,
   "metadata": {},
   "outputs": [
    {
     "data": {
      "text/html": [
       "<div>\n",
       "<style scoped>\n",
       "    .dataframe tbody tr th:only-of-type {\n",
       "        vertical-align: middle;\n",
       "    }\n",
       "\n",
       "    .dataframe tbody tr th {\n",
       "        vertical-align: top;\n",
       "    }\n",
       "\n",
       "    .dataframe thead th {\n",
       "        text-align: right;\n",
       "    }\n",
       "</style>\n",
       "<table border=\"1\" class=\"dataframe\">\n",
       "  <thead>\n",
       "    <tr style=\"text-align: right;\">\n",
       "      <th></th>\n",
       "      <th>title</th>\n",
       "      <th>author</th>\n",
       "      <th>date_published</th>\n",
       "      <th>lead_image_url</th>\n",
       "      <th>content</th>\n",
       "      <th>next_page_url</th>\n",
       "      <th>url</th>\n",
       "      <th>domain</th>\n",
       "      <th>excerpt</th>\n",
       "      <th>word_count</th>\n",
       "      <th>direction</th>\n",
       "      <th>total_pages</th>\n",
       "      <th>rendered_pages</th>\n",
       "    </tr>\n",
       "  </thead>\n",
       "  <tbody>\n",
       "    <tr>\n",
       "      <th>0</th>\n",
       "      <td>Application Performance Monitoring AWS Lambda ...</td>\n",
       "      <td>Matt Makai</td>\n",
       "      <td>2019-05-21T16:21:43.081Z</td>\n",
       "      <td>https://www.fullstackpython.com/img/headers/py...</td>\n",
       "      <td>\\nAmazon Web Services (AWS) Lambda is a usage-...</td>\n",
       "      <td>None</td>\n",
       "      <td>https://www.fullstackpython.com/blog/applicati...</td>\n",
       "      <td>fullstackpython</td>\n",
       "      <td>Learn how to use Sentry Application Performanc...</td>\n",
       "      <td>1113</td>\n",
       "      <td>ltr</td>\n",
       "      <td>1</td>\n",
       "      <td>1</td>\n",
       "    </tr>\n",
       "  </tbody>\n",
       "</table>\n",
       "</div>"
      ],
      "text/plain": [
       "                                               title      author  \\\n",
       "0  Application Performance Monitoring AWS Lambda ...  Matt Makai   \n",
       "\n",
       "             date_published  \\\n",
       "0  2019-05-21T16:21:43.081Z   \n",
       "\n",
       "                                      lead_image_url  \\\n",
       "0  https://www.fullstackpython.com/img/headers/py...   \n",
       "\n",
       "                                             content next_page_url  \\\n",
       "0  \\nAmazon Web Services (AWS) Lambda is a usage-...          None   \n",
       "\n",
       "                                                 url           domain  \\\n",
       "0  https://www.fullstackpython.com/blog/applicati...  fullstackpython   \n",
       "\n",
       "                                             excerpt  word_count direction  \\\n",
       "0  Learn how to use Sentry Application Performanc...        1113       ltr   \n",
       "\n",
       "   total_pages  rendered_pages  \n",
       "0            1               1  "
      ]
     },
     "execution_count": 29,
     "metadata": {},
     "output_type": "execute_result"
    }
   ],
   "source": [
    "pandas = df_app.toPandas()\n",
    "pandas.head()"
   ]
  },
  {
   "cell_type": "code",
   "execution_count": 4,
   "metadata": {},
   "outputs": [],
   "source": [
    "# new plan - I have to use both to get what I need\n",
    "all_files = []\n",
    "for root, dirs, files in os.walk('../data/aggregate'):\n",
    "    files = glob.glob(os.path.join(root,'*.json'))\n",
    "    for f in files:\n",
    "        all_files.append(os.path.abspath(f))"
   ]
  },
  {
   "cell_type": "code",
   "execution_count": 23,
   "metadata": {},
   "outputs": [
    {
     "name": "stdout",
     "output_type": "stream",
     "text": [
      "['x:\\\\bloganalysis\\\\bloganalysis\\\\data\\\\aggregate\\\\inputA.json', 'x:\\\\bloganalysis\\\\bloganalysis\\\\data\\\\aggregate\\\\inputB.json', 'x:\\\\bloganalysis\\\\bloganalysis\\\\data\\\\aggregate\\\\inputC.json']\n"
     ]
    }
   ],
   "source": [
    "print(all_files)"
   ]
  },
  {
   "cell_type": "code",
   "execution_count": 5,
   "metadata": {},
   "outputs": [
    {
     "data": {
      "text/html": [
       "<div>\n",
       "<style scoped>\n",
       "    .dataframe tbody tr th:only-of-type {\n",
       "        vertical-align: middle;\n",
       "    }\n",
       "\n",
       "    .dataframe tbody tr th {\n",
       "        vertical-align: top;\n",
       "    }\n",
       "\n",
       "    .dataframe thead th {\n",
       "        text-align: right;\n",
       "    }\n",
       "</style>\n",
       "<table border=\"1\" class=\"dataframe\">\n",
       "  <thead>\n",
       "    <tr style=\"text-align: right;\">\n",
       "      <th></th>\n",
       "      <th>title</th>\n",
       "      <th>author</th>\n",
       "      <th>project</th>\n",
       "      <th>date_published</th>\n",
       "      <th>lead_image_url</th>\n",
       "      <th>content</th>\n",
       "      <th>next_page_url</th>\n",
       "      <th>url</th>\n",
       "      <th>domain</th>\n",
       "      <th>excerpt</th>\n",
       "      <th>word_count</th>\n",
       "      <th>direction</th>\n",
       "      <th>total_pages</th>\n",
       "      <th>rendered_pages</th>\n",
       "    </tr>\n",
       "  </thead>\n",
       "  <tbody>\n",
       "  </tbody>\n",
       "</table>\n",
       "</div>"
      ],
      "text/plain": [
       "Empty DataFrame\n",
       "Columns: [title, author, project, date_published, lead_image_url, content, next_page_url, url, domain, excerpt, word_count, direction, total_pages, rendered_pages]\n",
       "Index: []"
      ]
     },
     "execution_count": 5,
     "metadata": {},
     "output_type": "execute_result"
    }
   ],
   "source": [
    "def create_empty_dataframe():\n",
    "    index = pd.Index([], name=\"id\", dtype=int)\n",
    "    # specify column name and data type \n",
    "    columns = [('title', str),\n",
    "               ('author', str),\n",
    "               ('project', str),\n",
    "               ('date_published', str),\n",
    "               ('lead_image_url', str),\n",
    "               ('content', str),\n",
    "               ('next_page_url', str),\n",
    "               ('url', str),\n",
    "               ('domain', str),\n",
    "               ('excerpt', str),\n",
    "               ('word_count', int),\n",
    "               ('direction', str),\n",
    "               ('total_pages', int),\n",
    "               ('rendered_pages', int)]\n",
    "    # create the dataframe from a dict\n",
    "    return pd.DataFrame({k: pd.Series(dtype=t) for k, t in columns})\n",
    "\n",
    "emptyDF = create_empty_dataframe()\n",
    "emptyDF.head()"
   ]
  },
  {
   "cell_type": "code",
   "execution_count": 12,
   "metadata": {},
   "outputs": [
    {
     "name": "stdout",
     "output_type": "stream",
     "text": [
      "DataFrame[title: string, author: string, project: string, date_published: string, lead_image_url: string, content: string, next_page_url: string, url: string, domain: string, excerpt: string, word_count: int, direction: string, total_pages: int, rendered_pages: int]\n"
     ]
    }
   ],
   "source": [
    "\n",
    "\n",
    "for file in all_files:\n",
    "    df_app = spark.read.schema(jsonSchema).json(file, multiLine=True)\n",
    "    pandas = df_app.toPandas()\n",
    "    emptyDF = pd.concat([emptyDF, pandas])\n",
    "\n",
    "print(df_app)\n",
    "    "
   ]
  },
  {
   "cell_type": "code",
   "execution_count": 13,
   "metadata": {},
   "outputs": [
    {
     "data": {
      "text/html": [
       "<div>\n",
       "<style scoped>\n",
       "    .dataframe tbody tr th:only-of-type {\n",
       "        vertical-align: middle;\n",
       "    }\n",
       "\n",
       "    .dataframe tbody tr th {\n",
       "        vertical-align: top;\n",
       "    }\n",
       "\n",
       "    .dataframe thead th {\n",
       "        text-align: right;\n",
       "    }\n",
       "</style>\n",
       "<table border=\"1\" class=\"dataframe\">\n",
       "  <thead>\n",
       "    <tr style=\"text-align: right;\">\n",
       "      <th></th>\n",
       "      <th>title</th>\n",
       "      <th>author</th>\n",
       "      <th>project</th>\n",
       "      <th>date_published</th>\n",
       "      <th>lead_image_url</th>\n",
       "      <th>content</th>\n",
       "      <th>next_page_url</th>\n",
       "      <th>url</th>\n",
       "      <th>domain</th>\n",
       "      <th>excerpt</th>\n",
       "      <th>word_count</th>\n",
       "      <th>direction</th>\n",
       "      <th>total_pages</th>\n",
       "      <th>rendered_pages</th>\n",
       "    </tr>\n",
       "  </thead>\n",
       "  <tbody>\n",
       "    <tr>\n",
       "      <th>0</th>\n",
       "      <td>Application Performance Monitoring AWS Lambda ...</td>\n",
       "      <td>Matt Makai</td>\n",
       "      <td>Masters</td>\n",
       "      <td>2019-05-21T16:21:43.081Z</td>\n",
       "      <td>https://www.fullstackpython.com/img/headers/py...</td>\n",
       "      <td>\\nAmazon Web Services (AWS) Lambda is a usage-...</td>\n",
       "      <td>None</td>\n",
       "      <td>https://www.fullstackpython.com/blog/applicati...</td>\n",
       "      <td>fullstackpython</td>\n",
       "      <td>Learn how to use Sentry Application Performanc...</td>\n",
       "      <td>1113</td>\n",
       "      <td>ltr</td>\n",
       "      <td>1</td>\n",
       "      <td>1</td>\n",
       "    </tr>\n",
       "    <tr>\n",
       "      <th>0</th>\n",
       "      <td>Asynchronous Web Scraping With Python AIOHTTP</td>\n",
       "      <td>Ronnie Atuhaire</td>\n",
       "      <td>Masters</td>\n",
       "      <td>2019-05-21T16:21:43.081Z</td>\n",
       "      <td>https://hashnode.com/utility/r?url=https%3A%2F...</td>\n",
       "      <td>Hey there 👋, welcome here! Having looked at As...</td>\n",
       "      <td>None</td>\n",
       "      <td>https://blog.octachart.com/asynchronous-web-sc...</td>\n",
       "      <td>blog.octachart.com</td>\n",
       "      <td>Hey there 👋, welcome here! Having looked at As...</td>\n",
       "      <td>671</td>\n",
       "      <td>ltr</td>\n",
       "      <td>1</td>\n",
       "      <td>1</td>\n",
       "    </tr>\n",
       "    <tr>\n",
       "      <th>0</th>\n",
       "      <td>Automating Excel with Python Video Overview - ...</td>\n",
       "      <td>Not found</td>\n",
       "      <td>Masters</td>\n",
       "      <td>2019-05-21T16:21:43.081Z</td>\n",
       "      <td>https://miro.medium.com/max/640/0*n4Chf511o44y...</td>\n",
       "      <td>In this tutorial, I will show you an overview ...</td>\n",
       "      <td>None</td>\n",
       "      <td>https://www.blog.pythonlibrary.org/2022/03/29/...</td>\n",
       "      <td>www.blog.pythonlibrary.org</td>\n",
       "      <td>In this tutorial, I will show you an overview ...</td>\n",
       "      <td>67</td>\n",
       "      <td>ltr</td>\n",
       "      <td>1</td>\n",
       "      <td>1</td>\n",
       "    </tr>\n",
       "  </tbody>\n",
       "</table>\n",
       "</div>"
      ],
      "text/plain": [
       "                                               title           author  \\\n",
       "0  Application Performance Monitoring AWS Lambda ...       Matt Makai   \n",
       "0      Asynchronous Web Scraping With Python AIOHTTP  Ronnie Atuhaire   \n",
       "0  Automating Excel with Python Video Overview - ...        Not found   \n",
       "\n",
       "   project            date_published  \\\n",
       "0  Masters  2019-05-21T16:21:43.081Z   \n",
       "0  Masters  2019-05-21T16:21:43.081Z   \n",
       "0  Masters  2019-05-21T16:21:43.081Z   \n",
       "\n",
       "                                      lead_image_url  \\\n",
       "0  https://www.fullstackpython.com/img/headers/py...   \n",
       "0  https://hashnode.com/utility/r?url=https%3A%2F...   \n",
       "0  https://miro.medium.com/max/640/0*n4Chf511o44y...   \n",
       "\n",
       "                                             content next_page_url  \\\n",
       "0  \\nAmazon Web Services (AWS) Lambda is a usage-...          None   \n",
       "0  Hey there 👋, welcome here! Having looked at As...          None   \n",
       "0  In this tutorial, I will show you an overview ...          None   \n",
       "\n",
       "                                                 url  \\\n",
       "0  https://www.fullstackpython.com/blog/applicati...   \n",
       "0  https://blog.octachart.com/asynchronous-web-sc...   \n",
       "0  https://www.blog.pythonlibrary.org/2022/03/29/...   \n",
       "\n",
       "                       domain  \\\n",
       "0             fullstackpython   \n",
       "0          blog.octachart.com   \n",
       "0  www.blog.pythonlibrary.org   \n",
       "\n",
       "                                             excerpt  word_count direction  \\\n",
       "0  Learn how to use Sentry Application Performanc...        1113       ltr   \n",
       "0  Hey there 👋, welcome here! Having looked at As...         671       ltr   \n",
       "0  In this tutorial, I will show you an overview ...          67       ltr   \n",
       "\n",
       "   total_pages  rendered_pages  \n",
       "0            1               1  \n",
       "0            1               1  \n",
       "0            1               1  "
      ]
     },
     "execution_count": 13,
     "metadata": {},
     "output_type": "execute_result"
    }
   ],
   "source": [
    "emptyDF.head()"
   ]
  },
  {
   "cell_type": "code",
   "execution_count": null,
   "metadata": {},
   "outputs": [],
   "source": []
  }
 ],
 "metadata": {
  "interpreter": {
   "hash": "842fbf2151771c5fab737f7e91cae4a6b3fd587e0ef9c8eecff0f9eb53e93c36"
  },
  "kernelspec": {
   "display_name": "Python 3.10.1 64-bit",
   "language": "python",
   "name": "python3"
  },
  "language_info": {
   "codemirror_mode": {
    "name": "ipython",
    "version": 3
   },
   "file_extension": ".py",
   "mimetype": "text/x-python",
   "name": "python",
   "nbconvert_exporter": "python",
   "pygments_lexer": "ipython3",
   "version": "3.10.1"
  },
  "orig_nbformat": 4
 },
 "nbformat": 4,
 "nbformat_minor": 2
}
