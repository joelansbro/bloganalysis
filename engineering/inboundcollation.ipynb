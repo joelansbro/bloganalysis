{
 "cells": [
  {
   "cell_type": "code",
   "execution_count": 2,
   "metadata": {},
   "outputs": [],
   "source": [
    "from pyspark.sql import SparkSession\n",
    "from pyspark.sql.functions import *\n",
    "from pyspark.sql.types import *"
   ]
  },
  {
   "cell_type": "markdown",
   "metadata": {},
   "source": [
    "## Test script to collate blobs of JSON together\n",
    "\n",
    "This is in order to collate together separate JSON scripts that are accepted in and stored via the inbound API\n",
    "the inbound API will store json locally, and clean itself on a scheduled basis\n",
    "The point of this exercise is to gather inputs A B and C together, combine them, and store them in a separate location"
   ]
  },
  {
   "cell_type": "code",
   "execution_count": 3,
   "metadata": {},
   "outputs": [],
   "source": [
    "spark = SparkSession.Builder.master('local[1]')\\\n",
    "    .appName(\"inboundcollation\")\\\n",
    "    .config(\"spark.driver.bindAddress\", \"localhost\")\\\n",
    "    .config(\"spark.ui.port\", \"4050\")\\\n",
    "    .getOrCreate()"
   ]
  },
  {
   "cell_type": "code",
   "execution_count": 4,
   "metadata": {},
   "outputs": [],
   "source": [
    "inboundDir = '../data/aggregate/'\n",
    "\n",
    "jsonSchema = StructType([\n",
    "    StructField(\"title\", StringType(), False),\n",
    "    StructField(\"author\", StringType(), True),\n",
    "    StructField(\"date_published\", StringType(), True),\n",
    "    StructField(\"lead_image_url\", StringType(), True),\n",
    "    StructField(\"content\", StringType(), False),\n",
    "    StructField(\"next_page_url\", StringType(), True),\n",
    "    StructField(\"url\", StringType(), False),\n",
    "    StructField(\"domain\", StringType(), True),\n",
    "    StructField(\"excerpt\", StringType(), True),\n",
    "    StructField(\"word_count\", IntegerType(), False),\n",
    "    StructField(\"direction\", StringType(), True),\n",
    "    StructField(\"total_pages\", IntegerType(), True),\n",
    "    StructField(\"rendered_pages\", IntegerType(), True),\n",
    "    StructField(\"keywords\", ArrayType(StringType()), True)\n",
    "])\n"
   ]
  },
  {
   "cell_type": "code",
   "execution_count": 5,
   "metadata": {},
   "outputs": [],
   "source": [
    "\n",
    "df_app = spark.read.json(\"../data/aggregate/*.json\")\\\n",
    "    .schema(jsonSchema)\n",
    "\n",
    "df_app.show()"
   ]
  },
  {
   "cell_type": "code",
   "execution_count": null,
   "metadata": {},
   "outputs": [],
   "source": []
  }
 ],
 "metadata": {
  "interpreter": {
   "hash": "842fbf2151771c5fab737f7e91cae4a6b3fd587e0ef9c8eecff0f9eb53e93c36"
  },
  "kernelspec": {
   "display_name": "Python 3.10.1 64-bit",
   "language": "python",
   "name": "python3"
  },
  "language_info": {
   "codemirror_mode": {
    "name": "ipython",
    "version": 3
   },
   "file_extension": ".py",
   "mimetype": "text/x-python",
   "name": "python",
   "nbconvert_exporter": "python",
   "pygments_lexer": "ipython3",
   "version": "3.10.1"
  },
  "orig_nbformat": 4
 },
 "nbformat": 4,
 "nbformat_minor": 2
}
